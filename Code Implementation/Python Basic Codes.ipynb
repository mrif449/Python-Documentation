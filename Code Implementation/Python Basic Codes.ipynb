{
 "cells": [
  {
   "cell_type": "markdown",
   "metadata": {},
   "source": [
    "# **<font color='green'>Python Basic Rules: CSE110**"
   ]
  },
  {
   "cell_type": "markdown",
   "metadata": {},
   "source": [
    "### 1. Length and type of the list:"
   ]
  },
  {
   "cell_type": "code",
   "execution_count": null,
   "metadata": {},
   "outputs": [],
   "source": [
    "list = [1,2,3,4,5,6]\n",
    "print(type(list))\n",
    "print(\"Length of the list:\",len(list))"
   ]
  },
  {
   "cell_type": "markdown",
   "metadata": {},
   "source": [
    "### 2. Adding elements in the empty list using append function:"
   ]
  },
  {
   "cell_type": "code",
   "execution_count": null,
   "metadata": {},
   "outputs": [],
   "source": [
    "empty_list = []\n",
    "element_1 = \"Hello\"\n",
    "empty_list.append(element_1)\n",
    "element_2 = \"World!\"\n",
    "empty_list.append(element_2)\n",
    "print(empty_list)"
   ]
  },
  {
   "cell_type": "markdown",
   "metadata": {},
   "source": [
    "### 3. oncatation Using + operator"
   ]
  },
  {
   "cell_type": "code",
   "execution_count": null,
   "metadata": {},
   "outputs": [],
   "source": [
    "#Initializing lists...\n",
    "list_1 = [1,2,3,4]\n",
    "list_2 = [5,6,7,8]\n",
    "#Using (+) operator to concat the two lists...\n",
    "list_3 = list_1 + list_2\n",
    "#Printing the concatenated list...\n",
    "print(\"Concatenated list is:\",list_3)"
   ]
  },
  {
   "cell_type": "markdown",
   "metadata": {},
   "source": [
    "### 4. Adding elements in the empty list without using append function"
   ]
  },
  {
   "cell_type": "code",
   "execution_count": null,
   "metadata": {},
   "outputs": [],
   "source": [
    "empty_list = []\n",
    "element_1 = \"Hello\"\n",
    "empty_list += [element_1]\n",
    "element_2 = \"World!\"\n",
    "empty_list += [element_2]\n",
    "print(empty_list)"
   ]
  },
  {
   "cell_type": "markdown",
   "metadata": {},
   "source": [
    "### 5. Taking a list as input from the user a sequence of elements without square brackets"
   ]
  },
  {
   "cell_type": "code",
   "execution_count": null,
   "metadata": {},
   "outputs": [],
   "source": [
    "string_input = input(\"Enter the list: \") #1,2,3,4\n",
    "splitter = \",\" #It can be anything according to the question\n",
    "text_list_str_element = string_input.split(splitter) #By default splitter = space\n",
    "text_list_str_element = [int(element) for element in text_list_str_element]\n",
    "print(text_list_str_element)"
   ]
  },
  {
   "cell_type": "markdown",
   "metadata": {},
   "source": [
    "### 6. Taking a list as input from the user a sequence of elements without square brakets and default splitter"
   ]
  },
  {
   "cell_type": "code",
   "execution_count": null,
   "metadata": {},
   "outputs": [],
   "source": [
    "string_input = input(\"Enter the list: \") #1,2,3,4\n",
    "splitter = \",\" #It can be anything according to the question\n",
    "text_list_str_element = string_input.split(splitter) #By default splitter = space\n",
    "text_list_str_element = []\n",
    "for element in text_list_str_element:\n",
    "    text_list_str_element.append(int(element))\n",
    "print(text_list_str_element)"
   ]
  },
  {
   "cell_type": "markdown",
   "metadata": {},
   "source": [
    "### 7. Taking a list as input from user a sequence of elements with square brakets"
   ]
  },
  {
   "cell_type": "code",
   "execution_count": null,
   "metadata": {},
   "outputs": [],
   "source": [
    "string_input = input(\"Enter the list: \") #1,2,3,4\n",
    "splitter = \",\" #It can be anything according to the question\n",
    "text_list_str_element = string_input.split(splitter) #By default splitter = space\n",
    "text_list_str_element = [int(element) for element in text_list_str_element] #comprehension loop created\n",
    "print(text_list_str_element)"
   ]
  },
  {
   "cell_type": "markdown",
   "metadata": {},
   "source": [
    "### 8. Taking a list as input from user a sequence of elements with square brakets and created a list"
   ]
  },
  {
   "cell_type": "code",
   "execution_count": null,
   "metadata": {},
   "outputs": [],
   "source": [
    "string_input = input(\"Enter a list: \") #[1,2,3,4]-> 1,2,3,4\n",
    "splitter = \",\" #It can be anything according to the question\n",
    "text_list_str_element = string_input.split(splitter) #By default splitter = space\n",
    "text_list_str_element = []\n",
    "for element in text_list_str_element:\n",
    "    text_list_str_element.append(int(element))\n",
    "print(text_list_str_element)"
   ]
  },
  {
   "cell_type": "markdown",
   "metadata": {},
   "source": [
    "### 9. List slicing"
   ]
  },
  {
   "cell_type": "code",
   "execution_count": null,
   "metadata": {},
   "outputs": [],
   "source": [
    "list_0 = [1,2,3,4,5,6,7,8,9]\n",
    "print(\"First indexed value:\",list_0[0])\n",
    "print(\"First indexed value with a list:\",[list_0[0]])\n",
    "print(\"Last indexed value:\",list_0[-1])\n",
    "print(\"Last indexed value as a list:\",[list_0[0]])\n",
    "n = 3\n",
    "print(\"First n number of values:\",list_0[:n])\n",
    "print(\"Last n number of values:\",list_0[-n:])"
   ]
  },
  {
   "cell_type": "markdown",
   "metadata": {},
   "source": [
    "### 10. List iterating item wise"
   ]
  },
  {
   "cell_type": "code",
   "execution_count": null,
   "metadata": {},
   "outputs": [],
   "source": [
    "list_0 = [1,2,3,4,5,6,7,8,9]\n",
    "for element in list_0:\n",
    "    print(element)"
   ]
  },
  {
   "cell_type": "markdown",
   "metadata": {},
   "source": [
    "### 11. List iterating index wise"
   ]
  },
  {
   "cell_type": "code",
   "execution_count": null,
   "metadata": {},
   "outputs": [],
   "source": [
    "list_0 = [1,2,3,4,5,6,7,8,9]\n",
    "for index in range(len(list_0)):\n",
    "    print(list_0[index])"
   ]
  },
  {
   "cell_type": "markdown",
   "metadata": {},
   "source": [
    "### 12. Check if an element or key exists in the list or not"
   ]
  },
  {
   "cell_type": "code",
   "execution_count": null,
   "metadata": {},
   "outputs": [],
   "source": [
    "list_0 = [1,2,3,4,5,6,7,8,9]\n",
    "key = 5\n",
    "if key in list_0:\n",
    "    print(True)\n",
    "else:\n",
    "    print(False)"
   ]
  },
  {
   "cell_type": "markdown",
   "metadata": {},
   "source": [
    "### 13. Reverse a list without slicing"
   ]
  },
  {
   "cell_type": "code",
   "execution_count": null,
   "metadata": {},
   "outputs": [],
   "source": [
    "list_0 = [1,2,3,4,5,6,7,8,9]\n",
    "index_1 = len(list_0)-1\n",
    "for index_2 in range(len(list_0)//2): #Forward iterating until half of the list\n",
    "    #Swapping...\n",
    "    temp = list_0[index_1]\n",
    "    list_0[index_1] = list_0[index_2]\n",
    "    list_0[index_2] = temp\n",
    "    index_1 -= 1 #Backward iterating until half of the list\n",
    "print(list_0)"
   ]
  },
  {
   "cell_type": "markdown",
   "metadata": {},
   "source": [
    "### 14. Reverse list with slicing"
   ]
  },
  {
   "cell_type": "code",
   "execution_count": null,
   "metadata": {},
   "outputs": [],
   "source": [
    "list_0 = [1,2,3,4,5,6,7,8,9]\n",
    "reversed_list_0 = list_0[::-1]\n",
    "print(reversed_list_0)"
   ]
  },
  {
   "cell_type": "markdown",
   "metadata": {},
   "source": [
    "### 15. Pass by value"
   ]
  },
  {
   "cell_type": "code",
   "execution_count": null,
   "metadata": {},
   "outputs": [],
   "source": [
    "p1 = [\"B\",\"R\",\"A\",\"C\"]\n",
    "p2 = []\n",
    "for e in p1:\n",
    "    p2 += [e] #Copying the element with the help f list concarenation\n",
    "print(p2)"
   ]
  },
  {
   "cell_type": "markdown",
   "metadata": {},
   "source": [
    "### 16. Pass by reference"
   ]
  },
  {
   "cell_type": "code",
   "execution_count": null,
   "metadata": {},
   "outputs": [],
   "source": [
    "p1 = [\"B\",\"R\",\"A\",\"C\"]\n",
    "p2 = p1 #Copying the reference of the list p1\n",
    "#Updating the value for p2\n",
    "p2[1] = p2[2] #Updates the value for p1 as well\n",
    "p2[2] = p2[3] #Updates the value for p1 as well\n",
    "p2[3] = \"K\" #Updates the value for p1 as well\n",
    "print(\"p2:\",p2)\n",
    "print(\"p1\",p1)"
   ]
  },
  {
   "cell_type": "markdown",
   "metadata": {},
   "source": [
    "### 17. List to string"
   ]
  },
  {
   "cell_type": "code",
   "execution_count": null,
   "metadata": {},
   "outputs": [],
   "source": [
    "text_list = [\"B\",\"R\",\"A\",\"C\"]\n",
    "text_string = \" \"\n",
    "for element in text_list:\n",
    "    text_string += element\n",
    "print(text_string)\n",
    "\n",
    "#Example-02:\n",
    "text_list = [1,2,3,4]\n",
    "text_string = \" \"\n",
    "for element in text_list:\n",
    "    text_string += str(element)\n",
    "print(text_string)"
   ]
  },
  {
   "cell_type": "markdown",
   "metadata": {},
   "source": [
    "### 18. String to list(Making each character an element of the list)"
   ]
  },
  {
   "cell_type": "code",
   "execution_count": null,
   "metadata": {},
   "outputs": [],
   "source": [
    "text_string = \"BRAC\"\n",
    "text_list = list(text_string)\n",
    "print(text_list)"
   ]
  },
  {
   "cell_type": "markdown",
   "metadata": {},
   "source": [
    "### 19. Convert a tuple to a List, as list is mutable"
   ]
  },
  {
   "cell_type": "code",
   "execution_count": null,
   "metadata": {},
   "outputs": [],
   "source": [
    "tuple_0 = (1,2,3,4)\n",
    "print(\"Assumed tuple:\",tuple_0)\n",
    "\n",
    "list_0 = list(tuple_0)\n",
    "print(\"Before mutation:\",list_0)\n",
    "\n",
    "#Perform mutations or chages or modifications\n",
    "list_0[0] = list_0[1] * list_0[2]\n",
    "list_0[1] = list_0[2] * list_0[0]\n",
    "list_0[2] = list_0[0] * list_0[1]\n",
    "print(\"After mutation:\",list_0)\n",
    "\n",
    "#Convert the resulting list again back to tuple\n",
    "tuple_0 = tuple(list_0)\n",
    "print(\"Resulting tuple:\",tuple_0)"
   ]
  },
  {
   "cell_type": "markdown",
   "metadata": {},
   "source": [
    "### 20. Taking Tuple input"
   ]
  },
  {
   "cell_type": "code",
   "execution_count": null,
   "metadata": {},
   "outputs": [],
   "source": [
    "#String to list\n",
    "splitter = \",\" #By default: Space [Varies with some problem statement]\n",
    "test = input(\"Enter tuple: \") #test value: 1,2,3,4,5 or (1,2,3,4,5)\n",
    "if test[0] == \"(\" and test[1] == \")\":\n",
    "    test = test[1:-1].split(splitter)\n",
    "else:\n",
    "    test = test.split(splitter)\n",
    "    \n",
    "#Data elements: Integer\n",
    "test_list = [int(n) for n in test]\n",
    "test = tuple(test_list)\n",
    "print(\"Given tuple [Integer data elements]:\",test)"
   ]
  },
  {
   "cell_type": "markdown",
   "metadata": {},
   "source": [
    "### 21. Input Tuple and ouput Tuple"
   ]
  },
  {
   "cell_type": "code",
   "execution_count": null,
   "metadata": {},
   "outputs": [],
   "source": [
    "#String to list:\n",
    "splitter = \",\" #By default: Space [Varies with some problem statement]\n",
    "test = input(\"Enter tuple: \") #test value: \"A\",\"B\",\"C\",\"D\" or (\"A\",\"B\",\"C\",\"D\")\n",
    "if test[0] == \"(\" and test[-1] == \")\":\n",
    "    test = test[1:-1].split(splitter) #Skipping the brackets\n",
    "else:\n",
    "    test = test.split(splitter)\n",
    "#Processing: Removing space and extra quotations...\n",
    "test_list = []\n",
    "for element in test:\n",
    "    if (element.strip()[0] == \"'\" and element.strip()[-1] == \"'\") or (element.strip()[0] == '\"' and element.strip()[-1] == '\"'):\n",
    "        test_list += [element.strip()[1:-1]]\n",
    "    else:\n",
    "        test_list += [element.strip()]\n",
    "#Data elements: String\n",
    "test = tuple(test_list)\n",
    "print(\"Given tuple [String Data Elements]:\",test)"
   ]
  },
  {
   "cell_type": "markdown",
   "metadata": {},
   "source": [
    "### 22.Tuple Unpacking"
   ]
  },
  {
   "cell_type": "code",
   "execution_count": null,
   "metadata": {},
   "outputs": [],
   "source": [
    "test = ((1,2,3),(4,5,6),(7,8,9))\n",
    "\n",
    "#Process: 01\n",
    "for item in test: #Unpacking each item\n",
    "    e1,e2,e3 = item #Unpacking each value of an item\n",
    "    print(e1)\n",
    "    print(e2)\n",
    "    print(e3)\n",
    "\n",
    "#Process: 02\n",
    "for e1,e2,e3 in test: #Direct unpacking\n",
    "    print(e1)\n",
    "    print(e2)\n",
    "    print(e3) \n",
    "    \n",
    "#Process: 03\n",
    "for outer_index in range(len(test)):\n",
    "    for inner_index in range(len(test)):\n",
    "        print(test[outer_index][inner_index])"
   ]
  },
  {
   "cell_type": "markdown",
   "metadata": {},
   "source": [
    "### 23. Dictionary decomposing"
   ]
  },
  {
   "cell_type": "code",
   "execution_count": null,
   "metadata": {},
   "outputs": [],
   "source": [
    "dict_inside_list = [{\"a\":97},{\"A\":65}]\n",
    "print(\"Assumed List:\",dict_inside_list)\n",
    "\n",
    "print(\"\\nExtracting Dictionary from the list: \")\n",
    "d1,d2 = dict_inside_list\n",
    "print(\"d1:\",d1)\n",
    "print(\"d2:\",d2)\n",
    "\n",
    "#Dictionary decomposing\n",
    "print(\"\\nExtracting key and value from the dictionary: \")\n",
    "for k1,v1 in d1.items():\n",
    "    print(\"k1:\",k1)\n",
    "    print(\"v1:\",v1)\n",
    "for k2,v2 in d2.items():\n",
    "    print(\"k2:\",k2)\n",
    "    print(\"v2:\",v2)\n",
    "\n",
    "#Alternative\n",
    "print(\"\\nAlternative Way: [Index wise Access]\")\n",
    "k1,v1 = list(d1.items())[0][0], list(d1.items())[0][1]\n",
    "print(\"k1:\",k1)\n",
    "print(\"v1:\",v1)\n",
    "k2,v2 = list(d2.items())[0][0], list(d2.items())[0][1]\n",
    "print(\"k2:\",k2)\n",
    "print(\"v2:\",v2)"
   ]
  },
  {
   "cell_type": "markdown",
   "metadata": {},
   "source": [
    "### 24. Assigning a new Key and Value"
   ]
  },
  {
   "cell_type": "code",
   "execution_count": null,
   "metadata": {},
   "outputs": [],
   "source": [
    "new_dict = {}\n",
    "key = (\"Usis\",\"Bux\")\n",
    "value = [\"Name: A\", \"ID: 20458235\"]\n",
    "new_dict[key] = value\n",
    "print(\"new_dict =\",new_dict)"
   ]
  },
  {
   "cell_type": "markdown",
   "metadata": {},
   "source": [
    "### 25. Updating a value in a predefined key"
   ]
  },
  {
   "cell_type": "code",
   "execution_count": null,
   "metadata": {},
   "outputs": [],
   "source": [
    "new_dict = {}\n",
    "key = (\"Usis\",\"Bux\")\n",
    "value1 = [\"Name: A\", \"ID: 20458235\"]\n",
    "new_dict[key] = value1\n",
    "print(\"Initial new_dict =\",new_dict)\n",
    "value2 = [\"Name: B\", \"ID: 20254867\"]\n",
    "new_dict[key] = value2\n",
    "print(\"Updated new_dict =\",new_dict)"
   ]
  },
  {
   "cell_type": "markdown",
   "metadata": {},
   "source": [
    "### 26. Taking Dictionary input"
   ]
  },
  {
   "cell_type": "code",
   "execution_count": null,
   "metadata": {},
   "outputs": [],
   "source": [
    "#Test value:\n",
    "#{\"a\":10,\"b\":100}\n",
    "#\"a\":10,\"b\":100\n",
    "#{\"a\":\"A\",\"b\":\"B\"}\n",
    "#\"a\":\"A\",\"b\":\"B\"\n",
    "#{10:\"a\",100:\"b\"}\n",
    "#10:\"a\",100:\"b\"\n",
    "from io import StringIO\n",
    "\n",
    "\n",
    "test = input(\"Enter a dictionary: \")\n",
    "if test[0] == \"{\" and test[-1] == \"}\":\n",
    "    test = test[1:-1].split(\",\")\n",
    "else:\n",
    "    test = test.split(\",\")\n",
    "#List to dictionary\n",
    "dictionary = {}\n",
    "for str_element in test:\n",
    "    k,v = str_element.split(\":\")\n",
    "    #Key processing\n",
    "    if (k[0] == \"'\" and k[-1] == \"'\") or (k[0] == '\"' and k[-1] == '\"'):\n",
    "        k = k.strip()[1:-1]\n",
    "    else:\n",
    "        k = k.strip()\n",
    "    if not ((\"a\" <= k.strip() <= \"z\") or (\"A\" <= k.strip() <= \"Z\")):\n",
    "        k = int(k)\n",
    "    #Value processing\n",
    "    if (v[0] == \"'\" and v[-1] == \"'\") or (v[0] == '\"' and v[-1] == '\"'):\n",
    "        v = v.strip()[1:-1]\n",
    "    else:\n",
    "        v = v.strip()\n",
    "    if not ((\"a\" <= v.strip() <= \"z\") or (\"A\" <= v.strip() <= \"Z\")):\n",
    "        v = int(v)\n",
    "    dictionary[k] = v\n",
    "print(\"Given dictionary:\",dictionary)"
   ]
  },
  {
   "cell_type": "markdown",
   "metadata": {},
   "source": [
    "### 27 Fixed Arguements type function"
   ]
  },
  {
   "cell_type": "code",
   "execution_count": null,
   "metadata": {},
   "outputs": [],
   "source": [
    "def fixed_args(arg1,arg2):\n",
    "    return arg1 + arg2\n",
    "\n",
    "#Type: 01\n",
    "#Value store: return type function\n",
    "value = fixed_args(5,15)\n",
    "print(value)\n",
    "\n",
    "#Type: 02\n",
    "#Calling a function inside print function\n",
    "print(fixed_args(5,15))"
   ]
  },
  {
   "cell_type": "markdown",
   "metadata": {},
   "source": [
    "### 28. Default Arguements type function"
   ]
  },
  {
   "cell_type": "code",
   "execution_count": null,
   "metadata": {},
   "outputs": [],
   "source": [
    "def default_args(arg1 = 0,arg2 = 0):\n",
    "    return arg1 + arg2\n",
    "#Calling the function\n",
    "\n",
    "#Ignore Both\n",
    "value1 = default_args() #arg1 = 0, arg2 = 0\n",
    "print(value1)\n",
    "\n",
    "#Ignore 2nd one\n",
    "value2 = default_args(5) #arg1 = 5, arg2 = 0\n",
    "print(value2)\n",
    "\n",
    "#Do not skip anything\n",
    "value3 = default_args(5,15) #arg1 = 5, arg2 = 15\n",
    "print(value3)"
   ]
  },
  {
   "cell_type": "markdown",
   "metadata": {},
   "source": [
    "### 29. Fixed and Default Arguements type function"
   ]
  },
  {
   "cell_type": "code",
   "execution_count": null,
   "metadata": {},
   "outputs": [],
   "source": [
    "def fixed_and_default(arg1,arg2 = None):\n",
    "    if arg2 != None:\n",
    "        return \"Both are present!\"\n",
    "    else: #arg2 == None\n",
    "        return \"Only first argument is present\"\n",
    "\n",
    "#Calling the function\n",
    "value1 = fixed_and_default(\"Hello World\") #arg1 = \"Hello World\", arg2 = None\n",
    "print(value1)\n",
    "\n",
    "#Calling the function\n",
    "value2 = fixed_and_default(\"Hello World\",\"Hello Bracu\") #arg1 = \"Hello World\", #arg2 = \"Hello Bracu\"\n",
    "print(value2)"
   ]
  },
  {
   "cell_type": "markdown",
   "metadata": {},
   "source": [
    "### 30. Variable Arguments type"
   ]
  },
  {
   "cell_type": "code",
   "execution_count": null,
   "metadata": {},
   "outputs": [],
   "source": [
    "def variable_args(*args):\n",
    "    #*args <-- Sequence of elements --> Data Type: Tuple\n",
    "    print(args)\n",
    "    print(type(args))\n",
    "    for element in args:\n",
    "        if element % 2 == 0:\n",
    "            print(element,end=\" \")\n",
    "\n",
    "#Calling the function\n",
    "variable_args(1,2,3,4,5,6,7,8,9) "
   ]
  },
  {
   "cell_type": "markdown",
   "metadata": {},
   "source": [
    "### 31. Binary Search"
   ]
  },
  {
   "cell_type": "code",
   "execution_count": null,
   "metadata": {},
   "outputs": [],
   "source": [
    "list = [1,3,5,7,9,0]\n",
    "def binary_search(sorted_sequence,data):\n",
    "    a = 0\n",
    "    b = len(sorted_sequence)-1\n",
    "    while a <= b:\n",
    "        mid_index = a + (b-a)//2\n",
    "        if sorted_sequence[mid_index] == data:\n",
    "            return mid_index\n",
    "        elif sorted_sequence[mid_index] > data:\n",
    "            b = mid_index - 1\n",
    "        else:\n",
    "            b = mid_index + 1\n",
    "    return None\n",
    "search_result = binary_search(list,5)\n",
    "if search_result == None:\n",
    "    print(\"Not found\")\n",
    "else:\n",
    "    print(\"Found at location:\",search_result)"
   ]
  },
  {
   "cell_type": "markdown",
   "metadata": {},
   "source": [
    "### 32. Linear Search"
   ]
  },
  {
   "cell_type": "code",
   "execution_count": null,
   "metadata": {},
   "outputs": [],
   "source": [
    "list_0 = [1,3,5,7,9,0]\n",
    "find = 50\n",
    "def linear_search(list,data):\n",
    "    for x in list_0:\n",
    "        if x == data:\n",
    "            return list.index(x)\n",
    "    return -1\n",
    "\n",
    "index = linear_search(list_0,find)\n",
    "if index != -1:\n",
    "    print(\"Element found in index:\",index)\n",
    "else:\n",
    "    print(\"Element not found\")"
   ]
  },
  {
   "cell_type": "markdown",
   "metadata": {},
   "source": [
    "### 33. List Sorting"
   ]
  },
  {
   "cell_type": "code",
   "execution_count": null,
   "metadata": {},
   "outputs": [],
   "source": [
    "def list_sorting(list):\n",
    "    for x in range(len(list)):\n",
    "        minimum_number = list[x]\n",
    "        minimum_index = x\n",
    "\n",
    "        for y in range(x+1,len(list)):\n",
    "            if list[y] < minimum_number:\n",
    "                minimum_number = list[y]\n",
    "                minimum_index = y\n",
    "        temporary_space = list[minimum_index]\n",
    "        list[minimum_index] = list[x]\n",
    "        list[x] = temporary_space\n",
    "    return list\n",
    "list = [7,2,1,3,10,-4,9,5]\n",
    "sorted_list = list_sorting(list)\n",
    "print(sorted_list)"
   ]
  }
 ],
 "metadata": {
  "colab": {
   "name": "20101363_08_Md. Rahadul Islam Fardin_Assessment 4.ipynb",
   "provenance": []
  },
  "kernelspec": {
   "display_name": "Python 3",
   "language": "python",
   "name": "python3"
  },
  "language_info": {
   "codemirror_mode": {
    "name": "ipython",
    "version": 3
   },
   "file_extension": ".py",
   "mimetype": "text/x-python",
   "name": "python",
   "nbconvert_exporter": "python",
   "pygments_lexer": "ipython3",
   "version": "3.9.4"
  }
 },
 "nbformat": 4,
 "nbformat_minor": 1
}
