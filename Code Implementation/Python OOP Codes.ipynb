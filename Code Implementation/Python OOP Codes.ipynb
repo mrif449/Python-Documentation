{
 "cells": [
  {
   "cell_type": "markdown",
   "id": "bfefc4ee",
   "metadata": {},
   "source": [
    "# **<font color='green'>Python Basic Rules: CSE111**"
   ]
  },
  {
   "cell_type": "markdown",
   "id": "afbf970c",
   "metadata": {},
   "source": [
    "### 1. Default constructor"
   ]
  },
  {
   "cell_type": "code",
   "execution_count": null,
   "id": "7fed8f40",
   "metadata": {},
   "outputs": [],
   "source": [
    "class Student:\n",
    "    def __init__(self):\n",
    "        print(self)\n",
    "        print(\"A student object created\")\n",
    "#-------------------------------------------\n",
    "#variable = class name\n",
    "s1 = Student()\n",
    "s2 = Student()\n",
    "print(\"s1:\",s1)\n",
    "print(\"s2:\",s2)"
   ]
  },
  {
   "cell_type": "markdown",
   "id": "cf4f144c",
   "metadata": {},
   "source": [
    "### 2. Parameterized Constructor | Instance Variable"
   ]
  },
  {
   "cell_type": "code",
   "execution_count": null,
   "id": "72731803",
   "metadata": {},
   "outputs": [],
   "source": [
    "class Student:\n",
    "    def __init__(self,name,id):\n",
    "        self.name = name  #instance variable\n",
    "        self.id = id      #instance variable\n",
    "        print(\"A student object created\")\n",
    "#---------------------------------------------\n",
    "#variable = class_name()\n",
    "s1 = Student(\"Bob\",11)\n",
    "s2 = Student(\"Luis\",12)\n",
    "print(s1.id) #11\n",
    "s1.id = 33\n",
    "print(s1.id) #33\n",
    "print(s2.id)\n",
    "print(s2.name)"
   ]
  },
  {
   "cell_type": "markdown",
   "id": "aca653b9",
   "metadata": {},
   "source": [
    "### 3. Instance Variable | Instance Method"
   ]
  },
  {
   "cell_type": "code",
   "execution_count": null,
   "id": "371230da",
   "metadata": {},
   "outputs": [],
   "source": [
    "#Example-1:\n",
    "class Student:\n",
    "    def __init__(self,name,id):\n",
    "        self.name = name #instance variable\n",
    "        self.id = id     #instance variable\n",
    "    def details(self):\n",
    "        print(\"Name:\",self.name,\"ID\",self.id)\n",
    "#========================================================================================================\n",
    "s1 = Student(\"Bob\",11)\n",
    "s2 = Student(\"Luis\",12)\n",
    "s1.id = 22\n",
    "s1.details()\n",
    "s2.details()"
   ]
  },
  {
   "cell_type": "code",
   "execution_count": null,
   "id": "8f209498",
   "metadata": {},
   "outputs": [],
   "source": [
    "#Example-2:\n",
    "class House:\n",
    "    def __init__(self):\n",
    "        self.window = 4  #instance variable\n",
    "        self.door = 2    #instance variable\n",
    "    def view(self):\n",
    "        print(\"The house has\",self.window,\"windows and\",self.door,\"doors\")\n",
    "#========================================================================================================\n",
    "h1 = House()\n",
    "h2 = House()\n",
    "print(h1)\n",
    "print(h2)\n",
    "h1.window = 6\n",
    "h2.door = 3\n",
    "h1.view()\n",
    "h2.view()"
   ]
  },
  {
   "cell_type": "code",
   "execution_count": null,
   "id": "96131f69",
   "metadata": {},
   "outputs": [],
   "source": [
    "#Example-3:\n",
    "class Car:\n",
    "    def __init__(self,name,model):\n",
    "        self.name = name    #instance variable\n",
    "        self.model = model  #instance variable\n",
    "        self.wheel = 4      #instance variable\n",
    "    def view(self):         ##instance method\n",
    "        print(\"The model year of this\",self.name, \"is\",self.model)\n",
    "        print(\"It is a\",self.wheel,\"wheel car\")\n",
    "#========================================================================================================\n",
    "c1 = Car(\"Lamborghini\",2016)\n",
    "c2 = Car(\"Bugatti\",2018)\n",
    "c1.wheel = 6\n",
    "c1.view()\n",
    "c2.view()"
   ]
  },
  {
   "cell_type": "markdown",
   "id": "d53c1f4a",
   "metadata": {},
   "source": [
    " ### 4. Constructor | Instance variable & method | __dict__ | dir()"
   ]
  },
  {
   "cell_type": "code",
   "execution_count": null,
   "id": "c5baecd1",
   "metadata": {},
   "outputs": [],
   "source": [
    "class Dog:\n",
    "    def __init__(self,name,color):\n",
    "        self.name = name\n",
    "        self.color = color\n",
    "    def update_color(self,color):\n",
    "        self.color = color\n",
    "    def poke(self):\n",
    "        print(self.color,self.name,\"is playing\")\n",
    "#========================================================================================================\n",
    "d1 = Dog(\"Rover\",\"White\")\n",
    "d2 = Dog(\"Tommy\",\"Brown\")\n",
    "\n",
    "d1.poke()\n",
    "d1.update_color(\"Black\")\n",
    "d1.poke()\n",
    "print(d2.__dict__) #Dictionary\n",
    "print(dir(d1))     #Directory"
   ]
  },
  {
   "cell_type": "markdown",
   "id": "055c08d2",
   "metadata": {},
   "source": [
    "### 5. Constructor | Instance variable & method | Import class"
   ]
  },
  {
   "cell_type": "code",
   "execution_count": null,
   "id": "f1529305",
   "metadata": {},
   "outputs": [],
   "source": [
    "from folder_name import Book #if class in other folder\n",
    "import Book                  #if class in same older\n",
    "\n",
    "class Book:\n",
    "    def __init__(self,name,author):\n",
    "        self.name = name\n",
    "        self.author = author\n",
    "        self.price = 0\n",
    "    def set_price(self,price):\n",
    "        self.price = price\n",
    "    def get_price(self):\n",
    "        return self.price\n",
    "    def details(self):\n",
    "        print(\"Book name:\",self.name,\"\\nAuthor:\",self.author,\"\\nPrice:\",self.price)\n",
    "#========================================================================================================\n",
    "b1 = foleder_name.Book(\"Deyal\",\"Humayun Ahmed\")\n",
    "b1.details()\n",
    "b1.set_price(400)\n",
    "b1.details()"
   ]
  },
  {
   "cell_type": "markdown",
   "id": "428ed0ad",
   "metadata": {},
   "source": [
    "### 6. Constructor | Instance variable & method | Pass by Reference | Pass by Value"
   ]
  },
  {
   "cell_type": "code",
   "execution_count": null,
   "id": "a201310d",
   "metadata": {},
   "outputs": [],
   "source": [
    "#Example-1:\n",
    "class Cat:\n",
    "    def __init__(self,color,action):\n",
    "        self.color = color\n",
    "        self.action = action\n",
    "    def view(self):\n",
    "        print(self.color,\"cat is\",self.action)\n",
    "    def compare(self,ct):\n",
    "        if self.action == ct.action:\n",
    "            print(\"Both cat are\",self.action)\n",
    "        else:\n",
    "            print(\"They are doing different things.\")\n",
    "#========================================================================================================\n",
    "c1 = Cat(\"White\",\"jumping\")\n",
    "c2 = Cat(\"Brown\",\"eating\")\n",
    "c1.view()\n",
    "c2.view()\n",
    "c1.compare(c2)"
   ]
  },
  {
   "cell_type": "code",
   "execution_count": null,
   "id": "4402c71d",
   "metadata": {},
   "outputs": [],
   "source": [
    "#Example-2:\n",
    "class Cat:\n",
    "    def __init__(self,color,action):\n",
    "        self.color = color\n",
    "        self.action = action\n",
    "    def view(self,number,color2):\n",
    "        number = number + 5\n",
    "        color1 = color2\n",
    "        color1[0] = \"Black\"\n",
    "        print(\"Method inside number:\",number)\n",
    "        print(\"Method inside color color:\",color1)\n",
    "#========================================================================================================\n",
    "colors = [\"Red\",\"White\",\"Blue\",\"Green\"]\n",
    "c1 = Cat(\"White\",\"jumping\")\n",
    "x = 55\n",
    "c1.view(x,colors)\n",
    "print(\"Method outside number:\",x)\n",
    "print(\"Method outside color:\",colors)"
   ]
  },
  {
   "cell_type": "markdown",
   "id": "b56956b6",
   "metadata": {},
   "source": [
    "### 7. Method Overloading"
   ]
  },
  {
   "cell_type": "code",
   "execution_count": null,
   "id": "2e3e75e3",
   "metadata": {},
   "outputs": [],
   "source": [
    "#Example-1: Using if-else condition\n",
    "class my_calculator:\n",
    "    def product(self,num1,num2=None,num3=None):\n",
    "        if num1 != None and num2 != None and num3 != None:\n",
    "            print(num1*num2*num3)\n",
    "        elif num1 != None and num2 != None:\n",
    "            print(num1*num2)\n",
    "        else:\n",
    "            print(num1*1)\n",
    "#========================================================================================================\n",
    "c1 = my_calculator()\n",
    "c1.product(4,5)\n",
    "c1.product(4,5,6)"
   ]
  },
  {
   "cell_type": "code",
   "execution_count": null,
   "id": "e95906be",
   "metadata": {},
   "outputs": [],
   "source": [
    "#Example-2: Using Loop\n",
    "class my_calculator:\n",
    "    def product(self,*number):\n",
    "        pro = 1\n",
    "        for x in number:\n",
    "            pro = pro * x\n",
    "        print(pro)\n",
    "#========================================================================================================\n",
    "c1 = my_calculator()\n",
    "c1.product(4,5)\n",
    "c1.product(4,5,6)"
   ]
  },
  {
   "cell_type": "code",
   "execution_count": null,
   "id": "f490aa4a",
   "metadata": {},
   "outputs": [],
   "source": [
    "#Example-3: Using package\n",
    "from multipledispatch import dispatch\n",
    "class my_calculator:\n",
    "    @dispatch(int,int)\n",
    "    def product(self,a,b):\n",
    "        print(a*b)\n",
    "    @dispatch(int,int,int)\n",
    "    def product(self,a,b,c):\n",
    "        print(a*b*c)\n",
    "    @dispatch(str,str)\n",
    "    def product(self,a,b):\n",
    "        print(int(a)*int(b))\n",
    "    @dispatch(float,float,float)\n",
    "    def product(self,a,b,c):\n",
    "        print(a*b*c)\n",
    "    @dispatch(str,int)\n",
    "    def product(self,a,b):\n",
    "        print(int(a)*b)\n",
    "#========================================================================================================\n",
    "c1 = my_calculator()\n",
    "c1.product(2,4)\n",
    "c1.product(2,4,6)\n",
    "c1.product(\"2\",\"5\")\n",
    "c1.product(2.3,4.34,4.5)\n",
    "c1.product(\"5\",4)"
   ]
  },
  {
   "cell_type": "markdown",
   "id": "424562cb",
   "metadata": {},
   "source": [
    "### 8. Constructor Overloading"
   ]
  },
  {
   "cell_type": "code",
   "execution_count": null,
   "id": "adf52167",
   "metadata": {},
   "outputs": [],
   "source": [
    "class Student:\n",
    "    def __init__(self,**info):    #Taking endless object\n",
    "        if len(info) == 3:\n",
    "            self.name = info[\"name\"]\n",
    "            self.id = info[\"id\"]\n",
    "            self.cgpa = info[\"cg\"]\n",
    "        elif len(info) == 2:\n",
    "            self.name = info[\"name\"]\n",
    "            self.id = info[\"id\"]\n",
    "        elif len(info) == 1:\n",
    "            self.name = info[\"name\"]\n",
    "        \n",
    "        print(\"A student method created\")\n",
    "#========================================================================================================\n",
    "s1 = Student(name = \"Carol\",id = 11,cg= 4.00)\n",
    "s2 = Student(id = 12, name= \"Robert\")\n",
    "s3 = Student(name = \"Luis\")\n",
    "s4 = Student()"
   ]
  },
  {
   "cell_type": "markdown",
   "id": "82ed66fd",
   "metadata": {},
   "source": [
    "### 9. Operator Overloading"
   ]
  },
  {
   "cell_type": "code",
   "execution_count": null,
   "id": "02e4e8c4",
   "metadata": {},
   "outputs": [],
   "source": [
    "#Example-1: To Overload (+) operator, we need to implement __add__() method in the class\n",
    "class data:\n",
    "    def __init__(self,x):\n",
    "        self.x = x\n",
    "    def __add__(self,other):    #Adding two objects\n",
    "        return self.x + other.x\n",
    "#========================================================================================================\n",
    "num1 = data(10)\n",
    "num2 = data(20)\n",
    "str1 = data(\"cse\")\n",
    "str2 = data(\"111\")\n",
    "print(num1+num2)    #num1.__add__(num2)\n",
    "print(str1+str2)    #str1.__add__(str2)"
   ]
  },
  {
   "cell_type": "code",
   "execution_count": null,
   "id": "ec9d965f",
   "metadata": {},
   "outputs": [],
   "source": [
    "#Example-2: Creating new object\n",
    "class House:\n",
    "    def __init__(self,window,door):\n",
    "        self.window = window  #instance variable\n",
    "        self.door = door      #instance variable\n",
    "    def view(self):\n",
    "        print(\"The house has\",self.window,\"window(s) and\",self.door,\"door(s)\")\n",
    "    def __add__(self,other):\n",
    "        new_window = self.window + other.window\n",
    "        new_door = self.door + other.door\n",
    "        obj = House(new_window,new_door)\n",
    "        return obj\n",
    "        #return \"New house has \"+str(new_window)+\" windows and \"+str(new_door)+\" doors\"\n",
    "#========================================================================================================\n",
    "h1 = House(6,2)\n",
    "h2 = House(4,1)\n",
    "h1.view()\n",
    "h2.view()\n",
    "h3 = h1 + h2\n",
    "h3.view()\n",
    "#print(h1+h2)"
   ]
  },
  {
   "cell_type": "code",
   "execution_count": null,
   "id": "bef481b6",
   "metadata": {},
   "outputs": [],
   "source": [
    "#Example-3: To Overload (>) operator, we need to implement __gt__() method in the class\n",
    "class data:\n",
    "    def __init__(self,x):\n",
    "        self.x = x\n",
    "    def __gt__(self,other):\n",
    "        if self.x > other.x:\n",
    "            return True\n",
    "        else:\n",
    "            return False\n",
    "#========================================================================================================\n",
    "num1 = data(10)\n",
    "num2 = data(20)\n",
    "if num1 > num2:     #num1.__gt__(num2)\n",
    "     print(\"Number1 is greater than Number 2\")\n",
    "else:\n",
    "    print(\"Number2 is greater than Number1\")"
   ]
  },
  {
   "cell_type": "code",
   "execution_count": null,
   "id": "e72facaa",
   "metadata": {},
   "outputs": [],
   "source": [
    "#Example-4: To Overload (<) operator, we need to implement __lt__() method in the class\n",
    "class data:\n",
    "    def __init__(self,x):\n",
    "        self.x = x\n",
    "    def __lt__(self,other):\n",
    "        if self.x < other.x:\n",
    "            return \"Number1 is less than Number2\"\n",
    "        else:\n",
    "            return \"Number2 is less than Number1\"\n",
    "#========================================================================================================\n",
    "num1 = data(10)\n",
    "num2 = data(20)\n",
    "print(num1<num2)    #num1.__lt__(num2)"
   ]
  },
  {
   "cell_type": "code",
   "execution_count": null,
   "id": "9dfaefcb",
   "metadata": {},
   "outputs": [],
   "source": [
    "#Example-5: To Overload (==) operator, we need to implement __eq__() method in the class\n",
    "class data:\n",
    "    def __init__(self,x):\n",
    "        self.x = x\n",
    "    def __eq__(self,other):\n",
    "        if self.x == other.x:\n",
    "            return \"Both are equal\"\n",
    "        else:\n",
    "            return \"Not equal\"\n",
    "#========================================================================================================\n",
    "num1 = data(20)\n",
    "num2 = data(20)\n",
    "print(num1==num2)    #num1.__eq__(num2)"
   ]
  },
  {
   "cell_type": "markdown",
   "id": "442ec0dc",
   "metadata": {},
   "source": [
    "### 10. Encapsulation | Public & Private variable"
   ]
  },
  {
   "cell_type": "code",
   "execution_count": null,
   "id": "9539a093",
   "metadata": {},
   "outputs": [],
   "source": [
    "#Example-1:\n",
    "class Student:\n",
    "    def __init__(self,name,id):\n",
    "        self.name = name\n",
    "        self.__id = id     #Private Variable Created\n",
    "    def details(self):\n",
    "        print(\"Name:\",self.name,\"ID:\",self.__id)\n",
    "    def update_id(self,id):\n",
    "        if id > 0:\n",
    "            self.__id = id\n",
    "        else:\n",
    "            print(\"Invalid ID. Please try again to update ID\")\n",
    "#========================================================================================================\n",
    "s1 = Student(\"Bob\",11)\n",
    "s2 = Student(\"Carol\",12)\n",
    "s1.update_id(-33)\n",
    "s1.details()\n",
    "s2.details()"
   ]
  },
  {
   "cell_type": "code",
   "execution_count": null,
   "id": "bd4ff7d7",
   "metadata": {},
   "outputs": [],
   "source": [
    "#Example-2: getter-setter method\n",
    "class Student:\n",
    "    def __init__(self,name,id,cgpa):\n",
    "        self.__name = name  #instance variable    #Private Variable Created\n",
    "        self.__id = id      #instance variable    #Private Variable Created\n",
    "        self.__cgpa = cgpa  #instance variable    #Private Variable Created\n",
    "    def details(self):\n",
    "        print(\"Name:\",self.__name,\"ID:\",self.__id,\"CGPA:\",self.__cgpa)\n",
    "    def set_name(self,name):\n",
    "        self.__name = name\n",
    "    def get_name(self):\n",
    "        return self.__name\n",
    "    def set_ID(self,Id):\n",
    "        if Id > 0:\n",
    "            self.__id = Id\n",
    "        else:\n",
    "            print(\"Invalid ID. Please try again to update ID\")\n",
    "    def get_ID(self):\n",
    "        return self.__id\n",
    "    def set_cgpa(self,cgpa):\n",
    "        if cgpa >= 0 and cgpa<=4:\n",
    "            self.__cgpa = cgpa\n",
    "        else:\n",
    "            print(\"Invalid CGPA. Please set CGPA in proper range (0-4)\")\n",
    "    def get_cgpa(self):\n",
    "        return self.__cgpa\n",
    "#========================================================================================================\n",
    "s1 = Student(\"Bob\",11,3.76)\n",
    "s2 = Student(\"Carol\",12,4.0)\n",
    "#s1.__name = \"Rafik\"\n",
    "s1.set_name(\"Rhustom\")\n",
    "s1.set_ID(34)\n",
    "s1.set_cgpa(3.99)\n",
    "print(\"Name:\",s1.get_name())\n",
    "print(\"ID:\",s1.get_ID())\n",
    "print(\"CGPA:\",s1.get_cgpa())\n",
    "#s1.details()"
   ]
  },
  {
   "cell_type": "markdown",
   "id": "8798b6b9",
   "metadata": {},
   "source": [
    "### 11. Encapsulation | Private method"
   ]
  },
  {
   "cell_type": "code",
   "execution_count": null,
   "id": "86334175",
   "metadata": {},
   "outputs": [],
   "source": [
    "class Student:\n",
    "    def __init__(self,name,id,cgpa):\n",
    "        self.__name = name  #instance variable    #Private Variable Created\n",
    "        self.__id = id      #instance variable    #Private Variable Created\n",
    "        self.__cgpa = cgpa  #instance variable    #Private Variable Created\n",
    "    def details(self):\n",
    "        print(\"Name:\",self.__name,\"ID:\",self.__id,\"CGPA:\",self.__cgpa)\n",
    "        self.__method()    #Private Method Executed\n",
    "    def __method(self):    #Private Method Created\n",
    "        print(\"A private method is created\")\n",
    "#========================================================================================================\n",
    "s1 = Student(\"Bob\",11,3.76)\n",
    "s2 = Student(\"Carol\",12,4.0)\n",
    "s1.details()"
   ]
  },
  {
   "cell_type": "markdown",
   "id": "bbf1100b",
   "metadata": {},
   "source": [
    "### 12. Class or Static variable"
   ]
  },
  {
   "cell_type": "code",
   "execution_count": null,
   "id": "8e2d72e9",
   "metadata": {},
   "outputs": [],
   "source": [
    "#Example-1:\n",
    "class Player:\n",
    "    total_run = 0        #Class or Static Variable\n",
    "    def __init__(self,run):\n",
    "        self.run = run\n",
    "    def hit_four(self):\n",
    "        self.run += 4\n",
    "        Player.total_run += 4\n",
    "    def hit_six(self):\n",
    "        self.run += 6\n",
    "        Player.total_run += 6\n",
    "#========================================================================================================\n",
    "taskin = Player(0)\n",
    "tamim = Player(0)\n",
    "taskin.hit_four()\n",
    "taskin.hit_four()\n",
    "taskin.hit_four()\n",
    "tamim.hit_six()\n",
    "tamim.hit_four()\n",
    "print(\"Taskin:\",taskin.run)\n",
    "print(\"Tamim:\",tamim.run)\n",
    "print(\"Team Run:\",Player.total_run)\n",
    "print(\"Team Run:\",taskin.total_run)\n",
    "print(\"Team Run:\",tamim.total_run)"
   ]
  },
  {
   "cell_type": "code",
   "execution_count": null,
   "id": "93922cc4",
   "metadata": {},
   "outputs": [],
   "source": [
    "#Example-2:\n",
    "class Student:\n",
    "    counter = 0        #Class or Static Variable\n",
    "    def __init__(self,name,id):\n",
    "        self.name = name\n",
    "        self.id = id\n",
    "        Student.counter += 1\n",
    "    def details(self):\n",
    "        print(\"Name:\",self.name,\"ID:\",self.id)\n",
    "#========================================================================================================\n",
    "s1 = Student(\"Bob\",11)\n",
    "s2 = Student(\"Luis\",12)\n",
    "s3 = Student(\"Robert\",13)\n",
    "print(\"Total number of student:\",Student.counter)"
   ]
  },
  {
   "cell_type": "markdown",
   "id": "78dc629e",
   "metadata": {},
   "source": [
    "### 13. Type of Methods (Structure)"
   ]
  },
  {
   "cell_type": "code",
   "execution_count": null,
   "id": "7d7d011f",
   "metadata": {},
   "outputs": [],
   "source": [
    "class MyClass:\n",
    "    def method(self):\n",
    "        print(self,\"Instance method called\")\n",
    "    @classmethod    #Decorator\n",
    "    def class_method(cls):\n",
    "        print(cls,\"Class method called\")\n",
    "    @staticmethod    #Decorator\n",
    "    def static_method():\n",
    "        print(\"Static method called\")"
   ]
  },
  {
   "cell_type": "markdown",
   "id": "6e0ddc94",
   "metadata": {},
   "source": [
    "### 14. Class Method"
   ]
  },
  {
   "cell_type": "code",
   "execution_count": null,
   "id": "760a9293",
   "metadata": {},
   "outputs": [],
   "source": [
    "#Example-1:\n",
    "class Employee:\n",
    "    org_name = \"Google\"\n",
    "    def __init__(self,name):\n",
    "        self.name = name\n",
    "    @classmethod    #Decorator\n",
    "    def info(cls):\n",
    "        return cls.org_name\n",
    "print(Employee.info())"
   ]
  },
  {
   "cell_type": "code",
   "execution_count": null,
   "id": "f59c3171",
   "metadata": {},
   "outputs": [],
   "source": [
    "#Example-2:\n",
    "class Student:\n",
    "    uni_name = \"BracU\"\n",
    "    def __init__(self,name,id):\n",
    "        self.name = name\n",
    "        self.id = id\n",
    "    def details(self):\n",
    "        print(\"Name:\",self.name,\"ID:\",self.id,\"University:\",Student.uni_name)\n",
    "    @classmethod\n",
    "    def up_uni(cls,u_name):\n",
    "        cls.uni_name = u_name\n",
    "#========================================================================================================\n",
    "s1 = Student(\"Bob\",11)\n",
    "s2 = Student(\"Carol\",12)\n",
    "s1.details()\n",
    "s2.details()\n",
    "Student.up_uni(\"BRAC University\")\n",
    "s1.details()\n",
    "s2.details()"
   ]
  },
  {
   "cell_type": "code",
   "execution_count": null,
   "id": "7d2bfeb3",
   "metadata": {},
   "outputs": [],
   "source": [
    "#Example-3: Creating factory method\n",
    "class Student:\n",
    "    uni_name = \"BracU\"\n",
    "    def __init__(self,name,id):\n",
    "        self.name = name\n",
    "        self.id = id\n",
    "    def details(self):\n",
    "        print(\"Name:\",self.name,\"ID:\",self.id,\"University:\",Student.uni_name)\n",
    "    @classmethod\n",
    "    def up_uni(cls,u_name):\n",
    "        cls.uni_name = u_name\n",
    "    @classmethod\n",
    "    def single_string(cls,info):\n",
    "        Name,Id = info.split(\":\")\n",
    "        obj = cls(Name,Id)\n",
    "        return obj\n",
    "#========================================================================================================\n",
    "s1 = Student(\"Bob\",11)\n",
    "s2 = Student.single_string(\"Carol:12\")\n",
    "s1.details()\n",
    "s2.details()\n",
    "Student.up_uni(\"BRAC University\")\n",
    "s1.details()\n",
    "s2.details()"
   ]
  },
  {
   "cell_type": "markdown",
   "id": "f743b2a8",
   "metadata": {},
   "source": [
    "### 15. Static Method"
   ]
  },
  {
   "cell_type": "code",
   "execution_count": null,
   "id": "9c0f826e",
   "metadata": {},
   "outputs": [],
   "source": [
    "#Example-1:\n",
    "class Employee:\n",
    "    org_name = \"Google\"\n",
    "    def __init__(self,name):\n",
    "        self.name = name\n",
    "    @staticmethod\n",
    "    def detail():\n",
    "        print(\"This is an Employee class\")\n",
    "Employee.detail()"
   ]
  },
  {
   "cell_type": "code",
   "execution_count": null,
   "id": "a357f6b5",
   "metadata": {},
   "outputs": [],
   "source": [
    "#Example-2:\n",
    "class Student:\n",
    "    uni_name = \"BracU\"\n",
    "    def __init__(self,name,id):\n",
    "        self.name = name\n",
    "        self.id = id\n",
    "    def details(self):\n",
    "        print(\"Name:\",self.name,\"ID:\",self.id,\"University:\",Student.uni_name)\n",
    "    @classmethod\n",
    "    def up_uni(cls,u_name):\n",
    "        cls.uni_name = u_name\n",
    "    @classmethod\n",
    "    def single_string(cls,info):\n",
    "        Name,Id = info.split(\":\")\n",
    "        obj = cls(Name,Id)\n",
    "        return obj\n",
    "    @staticmethod\n",
    "    def department(Id):\n",
    "        if   Id[3:5] == \"01\": print(\"CSE\")\n",
    "        elif Id[3:5] == \"41\": print(\"CS\")\n",
    "#========================================================================================================\n",
    "Student.department(\"20101363\")\n",
    "Student.department(\"20141529\")"
   ]
  },
  {
   "cell_type": "markdown",
   "id": "2d394b61",
   "metadata": {},
   "source": [
    "### 16. Single Inheritance"
   ]
  },
  {
   "cell_type": "code",
   "execution_count": null,
   "id": "b916f169",
   "metadata": {},
   "outputs": [],
   "source": [
    "#Example-1: Structure\n",
    "class Parent_Class:     #Base Class\n",
    "    def method1(self):\n",
    "        print(\"This method1 is in Parent_Class\")\n",
    "    def method2(self):\n",
    "        print(\"This method2 is in Parent_Class\")\n",
    "#++++++++++++++++++++++++++++++++++++++++++++++++++++++++++++\n",
    "class Child_Class(Parent_Class):    #Derived Class\n",
    "        def method3(self):\n",
    "            print(\"This method3 is in Child_Class\")\n",
    "#========================================================================================================\n",
    "ch1 = Child_Class()     #Object Class\n",
    "ch1.method1()\n",
    "ch1.method2()\n",
    "ch1.method3()"
   ]
  },
  {
   "cell_type": "code",
   "execution_count": null,
   "id": "ae688fcf",
   "metadata": {},
   "outputs": [],
   "source": [
    "#Example-2:\n",
    "class Animal:\n",
    "    def __init__(self,name):\n",
    "        self.name = name\n",
    "    def eat(self):\n",
    "        print(self.name,\"is eating\")\n",
    "#++++++++++++++++++++++++++++++++++++++++++++++++++++++++++++\n",
    "class Dog(Animal):\n",
    "    def bark(self):\n",
    "        print(self.name,\"is barking\")\n",
    "#========================================================================================================\n",
    "a1 = Animal(\"Tommy\")\n",
    "d1 = Dog(\"Doggy\")\n",
    "d1.eat()\n",
    "d1.bark()\n",
    "a1.eat()\n",
    "#isinstance(object,ClassName)\n",
    "print(isinstance(a1,Animal))\n",
    "print(isinstance(a1,Dog))\n",
    "print(isinstance(d1,Animal))\n",
    "print(isinstance(d1,Dog))\n",
    "#issubclass(Class,ClassName)\n",
    "print(issubclass(Dog,Animal))\n",
    "print(issubclass(Animal,Dog))"
   ]
  },
  {
   "cell_type": "markdown",
   "id": "ecf848e8",
   "metadata": {},
   "source": [
    "### 17. Multilevel Inheritance"
   ]
  },
  {
   "cell_type": "code",
   "execution_count": null,
   "id": "95425f79",
   "metadata": {},
   "outputs": [],
   "source": [
    "#Example-1: Structure\n",
    "class Parent_class:     #Base Class\n",
    "    def method1(self):  \n",
    "        print(\"This method1 is in Parent_class\")\n",
    "#++++++++++++++++++++++++++++++++++++++++++++++++++++++++++++\n",
    "class Child_class1(Parent_class):   #Derived Class 1\n",
    "    def method2(self):\n",
    "        print(\"This method1 is in Child_class1\")\n",
    "#++++++++++++++++++++++++++++++++++++++++++++++++++++++++++++\n",
    "class Child_class2(Child_class1):   #Derived Class 2\n",
    "    def method3(self):\n",
    "        print(\"This method3 is in Child_class2\")\n",
    "#========================================================================================================\n",
    "ch1 = Child_class2()    #Object of Child_class2\n",
    "ch1.method1()\n",
    "ch1.method2()\n",
    "ch1.method3()"
   ]
  },
  {
   "cell_type": "code",
   "execution_count": null,
   "id": "a0cb0900",
   "metadata": {},
   "outputs": [],
   "source": [
    "#Example-2:\n",
    "class Student:                  #Grand Parent Class\n",
    "    def __init__(self,name,id):\n",
    "        self.name = name\n",
    "        self.id = id\n",
    "    def details(self):\n",
    "        print(\"Name:\",self.name,\"ID:\",self.id)\n",
    "#++++++++++++++++++++++++++++++++++++++++++++++++++++++++++++\n",
    "class CSE_Student(Student):     #Parent Class\n",
    "    def __init__(self,name,id,labs):\n",
    "        super().__init__(name,id)\n",
    "        self.no_of_labs = labs\n",
    "    def cry(self):\n",
    "        print(self.name,\"is crying because of\",self.no_of_labs,\"lab(s)\")\n",
    "#++++++++++++++++++++++++++++++++++++++++++++++++++++++++++++\n",
    "class CSE_Fresher(CSE_Student):  #Child Class\n",
    "    def enroll_CSE110(self):\n",
    "        print(self.name,\"enrolled in CSE110\")\n",
    "#========================================================================================================\n",
    "s1 = CSE_Student(\"Bob\",11,3)\n",
    "s2 = CSE_Fresher(\"Luis\",12,1)\n",
    "s1.details()\n",
    "s2.details()\n",
    "s1.cry()\n",
    "s2.cry()\n",
    "s2.enroll_CSE110()"
   ]
  },
  {
   "cell_type": "markdown",
   "id": "c1513284",
   "metadata": {},
   "source": [
    "### 18. Hierarchical Inheritance"
   ]
  },
  {
   "cell_type": "code",
   "execution_count": null,
   "id": "07235a0b",
   "metadata": {},
   "outputs": [],
   "source": [
    "#Example-1: Structure\n",
    "class Parent_class:     #Base Class 1\n",
    "    def method1(self):  \n",
    "        print(\"This method1 is in Parent_class\")\n",
    "#++++++++++++++++++++++++++++++++++++++++++++++++++++++++++++\n",
    "class Child_class1(Parent_class):   #Derived Class 1\n",
    "    def method2(self):\n",
    "        print(\"This method1 is in Child_class1\")\n",
    "#++++++++++++++++++++++++++++++++++++++++++++++++++++++++++++\n",
    "class Child_class2(Parent_class):   #Derived Class 2\n",
    "    def method3(self):\n",
    "        print(\"This method3 is in Child_class2\")\n",
    "#========================================================================================================\n",
    "ch1 = Child_class1()    #Object of Child_class1\n",
    "ch2 = Child_class2()    #Object of Child_class2\n",
    "ch1.method1()\n",
    "ch2.method1()"
   ]
  },
  {
   "cell_type": "code",
   "execution_count": null,
   "id": "e70ee58f",
   "metadata": {},
   "outputs": [],
   "source": [
    "#Example-2:\n",
    "class Student:\n",
    "    def __init__(self,name,id):\n",
    "        self.name = name\n",
    "        self.id = id\n",
    "    def details(self):\n",
    "        print(\"Name:\",self.name,\"ID:\",self.id)\n",
    "#++++++++++++++++++++++++++++++++++++++++++++++++++++++++++++\n",
    "class CSE_Student(Student):\n",
    "    def __init__(self,name,id,labs):\n",
    "        super().__init__(name,id)\n",
    "        self.no_of_labs = labs\n",
    "    def cry(self):\n",
    "        print(self.name,\"is crying because of\",self.no_of_labs,\"labs\")\n",
    "#++++++++++++++++++++++++++++++++++++++++++++++++++++++++++++\n",
    "class BBA_Student(Student):\n",
    "    def party(self):\n",
    "        print(\"All day party\")\n",
    "#========================================================================================================\n",
    "s1 = CSE_Student(\"Bob\",11,3)\n",
    "s2 =BBA_Student(\"Carol\",23)\n",
    "s1.details()\n",
    "s2.details()\n",
    "s1.cry()\n",
    "s2.party()\n",
    "print(help(s1))\n",
    "print(help(s2))"
   ]
  },
  {
   "cell_type": "markdown",
   "id": "a2e4997d",
   "metadata": {},
   "source": [
    "### 19. Multiple Inheritance"
   ]
  },
  {
   "cell_type": "code",
   "execution_count": null,
   "id": "9bea710b",
   "metadata": {},
   "outputs": [],
   "source": [
    "#Example-1: Structure\n",
    "class Parent_class1:     #Base Class 1\n",
    "    def method1(self):  \n",
    "        print(\"This method1 is in Parent_class\")\n",
    "#++++++++++++++++++++++++++++++++++++++++++++++++++++++++++++\n",
    "class Parent_class2:   #Base Class 2\n",
    "    def method2(self):\n",
    "        print(\"This method1 is in Child_class1\")\n",
    "#++++++++++++++++++++++++++++++++++++++++++++++++++++++++++++\n",
    "class Child_class(Parent_class1,Parent_class2):   #Derived Class\n",
    "    def method3(self):\n",
    "        print(\"This method3 is in Child_class2\")\n",
    "#========================================================================================================\n",
    "ch1 = Child_class()    #Object of Child_class\n",
    "ch1.method1()\n",
    "ch1.method2()\n",
    "ch1.method3()"
   ]
  },
  {
   "cell_type": "code",
   "execution_count": null,
   "id": "3a9a49d7",
   "metadata": {},
   "outputs": [],
   "source": [
    "#Example-2:\n",
    "class A:\n",
    "    def __init__(self):\n",
    "        print(\"__init__ method of class A\")\n",
    "    def method1(self):\n",
    "        print(\"Method1 of class A\")\n",
    "#++++++++++++++++++++++++++++++++++++++++++++++++++++++++++++\n",
    "class B:\n",
    "    def __init__(self):\n",
    "        print(\"__init__ method of class B\")\n",
    "    def method1(self):\n",
    "        print(\"Method1 of class B\")\n",
    "#++++++++++++++++++++++++++++++++++++++++++++++++++++++++++++\n",
    "class C(A,B):\n",
    "    def __init__(self):\n",
    "        #super().__init__()\n",
    "        #B.__init__(self)\n",
    "        print(\"__init__ method of class C\")\n",
    "    def method1(self):\n",
    "        print(\"Method1 of class C\")\n",
    "#========================================================================================================\n",
    "c1 = C()\n",
    "c1.method1()\n",
    "B.method1(c1)"
   ]
  },
  {
   "cell_type": "markdown",
   "id": "ee778ae5",
   "metadata": {},
   "source": [
    "### 20. Hybrid Inheritance"
   ]
  },
  {
   "cell_type": "code",
   "execution_count": null,
   "id": "4ec7c565",
   "metadata": {},
   "outputs": [],
   "source": [
    "class Parent_class:     #Base Class\n",
    "    def method1(self):  \n",
    "        print(\"This method1 is in Parent_class\")\n",
    "#++++++++++++++++++++++++++++++++++++++++++++++++++++++++++++\n",
    "class Child_class1(Parent_class):   #Derived Class 1\n",
    "    def method2(self):\n",
    "        print(\"This method1 is in Child_class1\")\n",
    "#++++++++++++++++++++++++++++++++++++++++++++++++++++++++++++\n",
    "class Child_class2(Child_class1):   #Derived Class 2\n",
    "    def method3(self):\n",
    "        print(\"This method3 is in Child_class2\")\n",
    "#++++++++++++++++++++++++++++++++++++++++++++++++++++++++++++\n",
    "class Child_class3(Child_class1):   #Derived Class 3\n",
    "    def method4(self):\n",
    "        print(\"This method4 is in Child_class3\")\n",
    "#========================================================================================================\n",
    "ch1 = Child_class3()    #Object of Child_class3\n",
    "ch1.method1()\n",
    "ch1.method2()"
   ]
  },
  {
   "cell_type": "code",
   "execution_count": null,
   "id": "ae109a7e",
   "metadata": {},
   "outputs": [],
   "source": [
    "#Example-2:\n",
    "class Animal:\n",
    "    def __init__ (self,name):\n",
    "        self.name = name\n",
    "        self.color = \"White\"\n",
    "    def eat(self):\n",
    "        print(self.color,self.name,\"is eating.\")\n",
    "#++++++++++++++++++++++++++++++++++++++++++++++++++++++++++++\n",
    "class Dog(Animal):\n",
    "    def __init__(self, name, color):\n",
    "        super().__init__(name)\n",
    "        self.color = color\n",
    "    def bark(self):\n",
    "        print(self.color,self.name,\"is barking.\")\n",
    "#========================================================================================================\n",
    "d1 = Dog(\"Rover\",\"Black\")\n",
    "d1.bark()\n",
    "d1.eat()"
   ]
  },
  {
   "cell_type": "markdown",
   "id": "d0210e98",
   "metadata": {},
   "source": [
    "### 21. Method Overriding"
   ]
  },
  {
   "cell_type": "code",
   "execution_count": null,
   "id": "626252c4",
   "metadata": {},
   "outputs": [],
   "source": [
    "#Example-1: Structure\n",
    "class Parent_class:\n",
    "    def method1(self):\n",
    "        print(\"method1 defined in Parent_class\")\n",
    "#++++++++++++++++++++++++++++++++++++++++++++++++++++++++++++\n",
    "class Child_class(Parent_class):\n",
    "    def method1(self):\n",
    "        print(\"method1 defined in Child_class\")\n",
    "#========================================================================================================\n",
    "ch1 = Child_class()\n",
    "ch1.method1()"
   ]
  },
  {
   "cell_type": "code",
   "execution_count": null,
   "id": "d1f546ea",
   "metadata": {},
   "outputs": [],
   "source": [
    "#Example-2:\n",
    "class A:\n",
    "    def __init__(self):\n",
    "        print(\"__init__ of class A\")\n",
    "    def method1(self):\n",
    "        print(\"Few study\")\n",
    "    def method2(self):\n",
    "        print(\"You will get all of the property and methods\")\n",
    "#++++++++++++++++++++++++++++++++++++++++++++++++++++++++++++\n",
    "class B(A):\n",
    "    def __init__(self):\n",
    "        pass\n",
    "    def method1(self):\n",
    "        super().method1()\n",
    "        print(\"Always party\")\n",
    "#========================================================================================================\n",
    "b1 = B()\n",
    "b1.method1()\n",
    "b1.method2()"
   ]
  },
  {
   "cell_type": "markdown",
   "id": "0a2745c2",
   "metadata": {},
   "source": [
    "### 22. Attribute or Varible Overriding"
   ]
  },
  {
   "cell_type": "code",
   "execution_count": null,
   "id": "2238b88a",
   "metadata": {},
   "outputs": [],
   "source": [
    "class Animal:\n",
    "    def __init__ (self,name):\n",
    "        self.name = name\n",
    "        self.color = \"White\"\n",
    "    def eat(self):\n",
    "        print(self.color,self.name,\"is eating.\")\n",
    "#++++++++++++++++++++++++++++++++++++++++++++++++++++++++++++\n",
    "class Dog(Animal):\n",
    "    def __init__(self, name, color):\n",
    "        super().__init__(name)\n",
    "        self.color = color\n",
    "    def bark(self):\n",
    "        print(self.color,self.name,\"is barking.\")\n",
    "#========================================================================================================\n",
    "d1 = Dog(\"Rover\",\"Black\")\n",
    "d1.bark()\n",
    "d1.eat()"
   ]
  },
  {
   "cell_type": "markdown",
   "id": "30147a3c",
   "metadata": {},
   "source": [
    "### 23. __str()__"
   ]
  },
  {
   "cell_type": "code",
   "execution_count": null,
   "id": "dd0aa5b1",
   "metadata": {},
   "outputs": [],
   "source": [
    "class Student:\n",
    "    def __init__(self,name,id):\n",
    "        self.name = name\n",
    "        self.id = id\n",
    "        #print(self)\n",
    "    def __str__(self):\n",
    "        return \"The name is: \"+self.name\n",
    "#========================================================================================================\n",
    "s1 = Student(\"Bob\",11)\n",
    "s2 = Student(\"Luis\",12)\n",
    "print(s1)\n",
    "print(s2)"
   ]
  },
  {
   "cell_type": "markdown",
   "id": "46bd52ab",
   "metadata": {},
   "source": [
    "### 24. Composition- Has-A relationship"
   ]
  },
  {
   "cell_type": "code",
   "execution_count": null,
   "id": "b51fc290",
   "metadata": {},
   "outputs": [],
   "source": [
    "class Engine:\n",
    "    def __init__ (self,cc):\n",
    "        self.capacity = cc\n",
    "    def start(self):\n",
    "        print(\"The engine is started\")\n",
    "    def stop(self):\n",
    "        print(\"The engine is turned off\")\n",
    "#++++++++++++++++++++++++++++++++++++++++++++++++++++++++++++\n",
    "class Car:\n",
    "    def __init__(self,name,cc):\n",
    "        self.name = name\n",
    "        self.engine = Engine(cc)    #object created\n",
    "    def run(self):\n",
    "        self.engine.start()\n",
    "        print(\"The car is running\")\n",
    "    def off(self):\n",
    "        self.engine.stop()\n",
    "        print(\"The car is stopped\")\n",
    "#========================================================================================================\n",
    "c1 = Car(\"Benz\",3000)\n",
    "c1.run()\n",
    "print(\"========================================\")\n",
    "c1.off()"
   ]
  },
  {
   "cell_type": "markdown",
   "id": "823ce85f",
   "metadata": {},
   "source": [
    "### 25. Abstract Class & Method"
   ]
  },
  {
   "cell_type": "code",
   "execution_count": null,
   "id": "1a9aa7f1",
   "metadata": {},
   "outputs": [],
   "source": [
    "#Example-1:\n",
    "from abc import ABC, abstractclassmethod\n",
    "class A(ABC):\n",
    "    @abstractclassmethod\n",
    "    def method1(self):\n",
    "        pass        #Abstract Method should not have any body\n",
    "#++++++++++++++++++++++++++++++++++++++++++++++++++++++++++++\n",
    "class B(A):\n",
    "    @abstractclassmethod\n",
    "    def method1(self):\n",
    "        pass\n",
    "#++++++++++++++++++++++++++++++++++++++++++++++++++++++++++++\n",
    "class C(B):\n",
    "    def method1(self):\n",
    "        print(\"Method1 overridden\")\n",
    "    def method2(self):\n",
    "        print(\"Method2 overridden\")\n",
    "#========================================================================================================\n",
    "c1 = C()\n",
    "c1.method1()\n",
    "c1.method2()"
   ]
  },
  {
   "cell_type": "code",
   "execution_count": null,
   "id": "3808a493",
   "metadata": {},
   "outputs": [],
   "source": [
    "#Example-2:\n",
    "from abc import ABC, abstractclassmethod\n",
    "class Animal(ABC):\n",
    "    @abstractclassmethod\n",
    "    def make_sound(self):\n",
    "        pass        #Abstract Method should not have any body\n",
    "    def eat(self):\n",
    "        print(\"It is eating\")\n",
    "\n",
    "class Dog(Animal):\n",
    "    def make_sound(self):\n",
    "        print(\"Barking Barking\")\n",
    "\n",
    "class Cat(Animal):\n",
    "    def make_sound(self):\n",
    "        print(\"Meow Meow\")\n",
    "\n",
    "class Snake(Animal):\n",
    "    def make_sound(self):\n",
    "        print(\"Hiss Hiss\")\n",
    "\n",
    "d1 = Dog()\n",
    "d1.make_sound()\n",
    "d1.eat()\n",
    "print(\"===========================\")\n",
    "c1 = Cat()\n",
    "c1.make_sound()\n",
    "c1.eat()\n",
    "print(\"===========================\")\n",
    "s1 = Snake()\n",
    "s1.make_sound()\n",
    "s1.eat()"
   ]
  }
 ],
 "metadata": {
  "kernelspec": {
   "display_name": "Python 3",
   "language": "python",
   "name": "python3"
  },
  "language_info": {
   "codemirror_mode": {
    "name": "ipython",
    "version": 3
   },
   "file_extension": ".py",
   "mimetype": "text/x-python",
   "name": "python",
   "nbconvert_exporter": "python",
   "pygments_lexer": "ipython3",
   "version": "3.9.5"
  }
 },
 "nbformat": 4,
 "nbformat_minor": 5
}